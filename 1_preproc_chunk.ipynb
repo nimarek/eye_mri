{
 "cells": [
  {
   "cell_type": "code",
   "execution_count": 1,
   "id": "extended-onion",
   "metadata": {},
   "outputs": [
    {
     "name": "stderr",
     "output_type": "stream",
     "text": [
      "/home/nima/.local/lib/python3.8/site-packages/nilearn/datasets/__init__.py:87: FutureWarning: Fetchers from the nilearn.datasets module will be updated in version 0.9 to return python strings instead of bytes and Pandas dataframes instead of Numpy arrays.\n",
      "  warn(\"Fetchers from the nilearn.datasets module will be \"\n"
     ]
    }
   ],
   "source": [
    "import os\n",
    "import pandas as pd\n",
    "from nilearn import image as img\n",
    "from nilearn import plotting as plt\n",
    "import matplotlib.pyplot as plt\n",
    "import nibabel as nib\n",
    "\n",
    "%matplotlib inline"
   ]
  },
  {
   "cell_type": "code",
   "execution_count": 2,
   "id": "academic-estate",
   "metadata": {},
   "outputs": [],
   "source": [
    "base_dir = os.path.expanduser('~') + '/Desktop/study_forrest_rsa'\n",
    "fmri_dir = base_dir + '/derivatives/fmriprep'\n",
    "out_dir = base_dir + '/derivatives/output'\n",
    "\n",
    "if not os.path.exists(out_dir):\n",
    "    os.makedirs(out_dir)"
   ]
  },
  {
   "cell_type": "code",
   "execution_count": 3,
   "id": "secure-george",
   "metadata": {},
   "outputs": [],
   "source": [
    "sub_list = ['01', '02', '03', '04', '06', '09', '10', '19']\n",
    "run_list = ['%.1d' % j for j in range(1, 9)]"
   ]
  },
  {
   "cell_type": "code",
   "execution_count": 4,
   "id": "japanese-puppy",
   "metadata": {},
   "outputs": [],
   "source": [
    "def load_preproc(sub_num, run_num, fmri_dir, out_dir):\n",
    "    # data paths\n",
    "    func_file = fmri_dir + f'/sub-{sub_num}/ses-movie/func/sub-{sub_num}_ses-movie_task-movie_run-{run_num}_space-MNI152NLin2009cAsym_res-2_desc-preproc_bold.nii.gz'\n",
    "    conf_file = fmri_dir + f'/sub-{sub_num}/ses-movie/func/sub-{sub_num}_ses-movie_task-movie_run-{run_num}_desc-confounds_regressors.tsv'\n",
    "    mask_file = fmri_dir + f'/sub-{sub_num}/ses-movie/func/sub-{sub_num}_ses-movie_task-movie_run-{run_num}_space-MNI152NLin2009cAsym_res-2_desc-brain_mask.nii.gz'\n",
    "    \n",
    "    out_path = out_dir + f'/sub-{sub_num}'\n",
    "    \n",
    "    if not os.path.exists(out_path):\n",
    "        os.makedirs(out_path)\n",
    "    \n",
    "    # load confound variables from fMRIPrep\n",
    "    confound_df = pd.read_csv(conf_file, delimiter='\\t')\n",
    "    confound_vars = ['white_matter', 'csf', 'trans_x', 'trans_x_derivative1', 'trans_y', 'trans_y_derivative1', \n",
    "                     'trans_z', 'trans_z_derivative1', 'rot_x', 'rot_x_derivative1', 'rot_y', 'rot_y_derivative1', 'rot_z',\n",
    "                     'rot_z_derivative1', 'global_signal', 'global_signal_derivative1', 'a_comp_cor_00', 'a_comp_cor_01']\n",
    "    confound_df = confound_df[confound_vars]\n",
    "    \n",
    "    # drop the first four rows because it contains NaNs\n",
    "    drop_confound_df = confound_df.loc[5:]\n",
    "    confounds_matrix = drop_confound_df#.values()\n",
    "    print('Shape of the confound matrix: \\t', drop_confound_df.shape)\n",
    "    \n",
    "    # load the normalized BOLD file, drop the first four volumes too\n",
    "    raw_func_img = img.load_img(func_file)\n",
    "    func_img = raw_func_img.slicer[:, :, :, 5:]\n",
    "    print('Shape of the functional image: \\t',func_img.shape)\n",
    "    \n",
    "    if drop_confound_df.shape[0] != func_img.shape[3]:\n",
    "        raise ValueError('ValueError exception thrown')\n",
    "    \n",
    "    # set some constants for all subs / runs\n",
    "    high_pass= 0.009\n",
    "    low_pass = 0.08\n",
    "    t_r = 2\n",
    "    \n",
    "    clean_img = img.clean_img(func_img, confounds=confounds_matrix, detrend=True, standardize=True, \n",
    "                              low_pass=low_pass, high_pass=high_pass, t_r=t_r, mask_img=mask_file)\n",
    "    \n",
    "    clean_img.to_filename(out_path + f'/sub-{sub_num}_run-{run_num}_cleaned.nii.gz')"
   ]
  },
  {
   "cell_type": "code",
   "execution_count": null,
   "id": "correct-basic",
   "metadata": {},
   "outputs": [
    {
     "name": "stdout",
     "output_type": "stream",
     "text": [
      "Shape of the confound matrix: \t (446, 18)\n",
      "Shape of the functional image: \t (97, 115, 97, 446)\n",
      "Shape of the confound matrix: \t (436, 18)\n",
      "Shape of the functional image: \t (97, 115, 97, 436)\n",
      "Shape of the confound matrix: \t (433, 18)\n",
      "Shape of the functional image: \t (97, 115, 97, 433)\n",
      "Shape of the confound matrix: \t (483, 18)\n",
      "Shape of the functional image: \t (97, 115, 97, 483)\n",
      "Shape of the confound matrix: \t (457, 18)\n",
      "Shape of the functional image: \t (97, 115, 97, 457)\n",
      "Shape of the confound matrix: \t (434, 18)\n",
      "Shape of the functional image: \t (97, 115, 97, 434)\n",
      "Shape of the confound matrix: \t (537, 18)\n",
      "Shape of the functional image: \t (97, 115, 97, 537)\n",
      "Shape of the confound matrix: \t (333, 18)\n",
      "Shape of the functional image: \t (97, 115, 97, 333)\n",
      "Shape of the confound matrix: \t (446, 18)\n",
      "Shape of the functional image: \t (97, 115, 97, 446)\n",
      "Shape of the confound matrix: \t (436, 18)\n",
      "Shape of the functional image: \t (97, 115, 97, 436)\n",
      "Shape of the confound matrix: \t (433, 18)\n",
      "Shape of the functional image: \t (97, 115, 97, 433)\n",
      "Shape of the confound matrix: \t (483, 18)\n",
      "Shape of the functional image: \t (97, 115, 97, 483)\n",
      "Shape of the confound matrix: \t (457, 18)\n",
      "Shape of the functional image: \t (97, 115, 97, 457)\n",
      "Shape of the confound matrix: \t (434, 18)\n",
      "Shape of the functional image: \t (97, 115, 97, 434)\n",
      "Shape of the confound matrix: \t (537, 18)\n",
      "Shape of the functional image: \t (97, 115, 97, 537)\n",
      "Shape of the confound matrix: \t (333, 18)\n",
      "Shape of the functional image: \t (97, 115, 97, 333)\n",
      "Shape of the confound matrix: \t (446, 18)\n",
      "Shape of the functional image: \t (97, 115, 97, 446)\n",
      "Shape of the confound matrix: \t (436, 18)\n",
      "Shape of the functional image: \t (97, 115, 97, 436)\n",
      "Shape of the confound matrix: \t (433, 18)\n",
      "Shape of the functional image: \t (97, 115, 97, 433)\n",
      "Shape of the confound matrix: \t (483, 18)\n",
      "Shape of the functional image: \t (97, 115, 97, 483)\n",
      "Shape of the confound matrix: \t (457, 18)\n",
      "Shape of the functional image: \t (97, 115, 97, 457)\n",
      "Shape of the confound matrix: \t (434, 18)\n",
      "Shape of the functional image: \t (97, 115, 97, 434)\n",
      "Shape of the confound matrix: \t (537, 18)\n",
      "Shape of the functional image: \t (97, 115, 97, 537)\n",
      "Shape of the confound matrix: \t (333, 18)\n",
      "Shape of the functional image: \t (97, 115, 97, 333)\n",
      "Shape of the confound matrix: \t (446, 18)\n",
      "Shape of the functional image: \t (97, 115, 97, 446)\n",
      "Shape of the confound matrix: \t (436, 18)\n",
      "Shape of the functional image: \t (97, 115, 97, 436)\n",
      "Shape of the confound matrix: \t (433, 18)\n",
      "Shape of the functional image: \t (97, 115, 97, 433)\n",
      "Shape of the confound matrix: \t (483, 18)\n",
      "Shape of the functional image: \t (97, 115, 97, 483)\n",
      "Shape of the confound matrix: \t (457, 18)\n",
      "Shape of the functional image: \t (97, 115, 97, 457)\n",
      "Shape of the confound matrix: \t (434, 18)\n",
      "Shape of the functional image: \t (97, 115, 97, 434)\n",
      "Shape of the confound matrix: \t (537, 18)\n",
      "Shape of the functional image: \t (97, 115, 97, 537)\n",
      "Shape of the confound matrix: \t (333, 18)\n",
      "Shape of the functional image: \t (97, 115, 97, 333)\n",
      "Shape of the confound matrix: \t (446, 18)\n",
      "Shape of the functional image: \t (97, 115, 97, 446)\n",
      "Shape of the confound matrix: \t (436, 18)\n",
      "Shape of the functional image: \t (97, 115, 97, 436)\n",
      "Shape of the confound matrix: \t (433, 18)\n",
      "Shape of the functional image: \t (97, 115, 97, 433)\n",
      "Shape of the confound matrix: \t (483, 18)\n",
      "Shape of the functional image: \t (97, 115, 97, 483)\n",
      "Shape of the confound matrix: \t (457, 18)\n",
      "Shape of the functional image: \t (97, 115, 97, 457)\n",
      "Shape of the confound matrix: \t (434, 18)\n",
      "Shape of the functional image: \t (97, 115, 97, 434)\n",
      "Shape of the confound matrix: \t (537, 18)\n",
      "Shape of the functional image: \t (97, 115, 97, 537)\n",
      "Shape of the confound matrix: \t (333, 18)\n",
      "Shape of the functional image: \t (97, 115, 97, 333)\n",
      "Shape of the confound matrix: \t (446, 18)\n",
      "Shape of the functional image: \t (97, 115, 97, 446)\n",
      "Shape of the confound matrix: \t (436, 18)\n",
      "Shape of the functional image: \t (97, 115, 97, 436)\n"
     ]
    }
   ],
   "source": [
    "for sub in sub_list:\n",
    "    for run in run_list:\n",
    "        load_preproc(sub_num=sub, run_num=run, fmri_dir=fmri_dir, out_dir=out_dir)"
   ]
  },
  {
   "cell_type": "code",
   "execution_count": null,
   "id": "adopted-colonial",
   "metadata": {},
   "outputs": [],
   "source": []
  }
 ],
 "metadata": {
  "kernelspec": {
   "display_name": "Python 3",
   "language": "python",
   "name": "python3"
  },
  "language_info": {
   "codemirror_mode": {
    "name": "ipython",
    "version": 3
   },
   "file_extension": ".py",
   "mimetype": "text/x-python",
   "name": "python",
   "nbconvert_exporter": "python",
   "pygments_lexer": "ipython3",
   "version": "3.8.5"
  }
 },
 "nbformat": 4,
 "nbformat_minor": 5
}
