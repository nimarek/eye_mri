{
 "cells": [
  {
   "cell_type": "code",
   "execution_count": 1,
   "id": "divided-living",
   "metadata": {},
   "outputs": [
    {
     "name": "stderr",
     "output_type": "stream",
     "text": [
      "/home/nima/.local/lib/python3.8/site-packages/nilearn/datasets/__init__.py:87: FutureWarning: Fetchers from the nilearn.datasets module will be updated in version 0.9 to return python strings instead of bytes and Pandas dataframes instead of Numpy arrays.\n",
      "  warn(\"Fetchers from the nilearn.datasets module will be \"\n"
     ]
    }
   ],
   "source": [
    "import os\n",
    "import glob\n",
    "\n",
    "import numpy as np\n",
    "import nibabel as nib\n",
    "from nilearn import plotting, image\n",
    "\n",
    "from glob import glob\n",
    "from pyrsa.util.searchlight import get_volume_searchlight, get_searchlight_RDMs, evaluate_models_searchlight\n",
    "import matplotlib.pyplot as plt\n",
    "import seaborn as sns\n",
    "\n",
    "%matplotlib inline\n",
    "#plt.style.use('seaborn-whitegrid')"
   ]
  },
  {
   "cell_type": "code",
   "execution_count": 2,
   "id": "vulnerable-supplement",
   "metadata": {},
   "outputs": [],
   "source": [
    "base_dir = os.path.expanduser('~') + '/Desktop/study_forrest_rsa'\n",
    "fmri_dir = base_dir + '/derivatives/fmriprep'\n",
    "out_dir = base_dir + '/code/output'\n",
    "\n",
    "if not os.path.exists(out_dir):\n",
    "    os.makedirs(out_dir)"
   ]
  },
  {
   "cell_type": "code",
   "execution_count": 3,
   "id": "changing-sacramento",
   "metadata": {},
   "outputs": [],
   "source": [
    "sub_test_list = ['%.2d' % i for i in range(1, 20)]\n",
    "sub_train_list= ['%.2d' % i for i in range(21, 37)]\n",
    "run_list = ['%.1d' % j for j in range(1, 9)]"
   ]
  },
  {
   "cell_type": "code",
   "execution_count": 7,
   "id": "contained-pickup",
   "metadata": {},
   "outputs": [],
   "source": [
    "def load_RDM(run_num, chunk_num, dimension, train=False):\n",
    "    '''\n",
    "    Load previously calculated RDMs. Return only the upper triangular index of an RMD. Delete the diagonal\n",
    "    as suggested by Ritchie, Bracci and Op de Beeck (2017).\n",
    "    '''\n",
    "    beh_train_dir = base_dir + '/simi_matrices_train'\n",
    "    beh_test_dir = base_dir + '/simi_matrices'\n",
    "    \n",
    "    # To-Do: include if statement to kick out chunks with > 50% NaN\n",
    "    if train == False:\n",
    "        data_dir = beh_test_dir\n",
    "    else:\n",
    "        data_dir = beh_train_dir\n",
    "        \n",
    "    rdm_file = data_dir + f'/run-{run_num}_dim-{dimension}_chunk-{chunk_num}.tsv'\n",
    "    RDM = np.loadtxt(rdm_file, delimiter='\\t')\n",
    "    \n",
    "    m = RDM.shape[0]\n",
    "    r, c = np.triu_indices(m, 1)\n",
    "    \n",
    "    return RDM[r, c]"
   ]
  },
  {
   "cell_type": "code",
   "execution_count": 8,
   "id": "weekly-dryer",
   "metadata": {},
   "outputs": [
    {
     "data": {
      "text/plain": [
       "[<matplotlib.lines.Line2D at 0x7f6b703f0fa0>]"
      ]
     },
     "execution_count": 8,
     "metadata": {},
     "output_type": "execute_result"
    },
    {
     "data": {
      "image/png": "[encoded data removed]",
      "text/plain": [
       "<Figure size 432x288 with 1 Axes>"
      ]
     },
     "metadata": {
      "needs_background": "light"
     },
     "output_type": "display_data"
    }
   ],
   "source": [
    "plt.plot(load_RDM(run_num='1', chunk_num=123, dimension='duration', train=True))"
   ]
  },
  {
   "cell_type": "markdown",
   "id": "heavy-status",
   "metadata": {},
   "source": [
    "**Load fMRI data, apply whole brain searchlight and compute neural RDMs.**<br>\n",
    " - The 'kernel' is the measure / function / classifier that is applied to the searchlight data <br>"
   ]
  },
  {
   "cell_type": "code",
   "execution_count": 10,
   "id": "patent-matter",
   "metadata": {},
   "outputs": [],
   "source": [
    "from brainiak.fcma.preprocessing import prepare_searchlight_mvpa_data\n",
    "from brainiak import io\n",
    "from shutil import copyfile"
   ]
  },
  {
   "cell_type": "code",
   "execution_count": 13,
   "id": "breeding-happiness",
   "metadata": {},
   "outputs": [],
   "source": [
    "def load_fmri(sub_num, run_num, fmri_dir, chunk_num, hd_delay):\n",
    "    '''\n",
    "    Load subject and run specific fmriprep preprocessed and denoised BOLD and mask files. Combine both, \n",
    "    return masked image. Slice 4th dimension of an image according to timepoint of the movie segment, \n",
    "    incorporate 2 sec hemo-dynamic delay.\n",
    "    '''\n",
    "    func_file = out_dir + f'/sub-{sub_num}/sub-{sub_num}_run-{run_num}_cleaned.nii.gz\n",
    "    mask_file = fmri_dir + f'/sub-{sub_num}/ses-movie/func/sub-{sub_num}_ses-movie_task-movie_run-{run_num}_space-MNI152NLin2009cAsym_res-2_desc-brain_mask.nii.gz'\n",
    "    \n",
    "    # get mask\n",
    "    whole_brain_mask = nib.load(mask_file)\n",
    "    whole_brain_mask = whole_brain_mask.get_data()\n",
    "    coords = np.where(whole_brain_mask) # Where are the non zero values\n",
    "    \n",
    "    # load 4D data, get affine transformation\n",
    "    func = nib.load(func_file)\n",
    "    affine_mat = func.affine\n",
    "    func = func.get_fdata()\n",
    "    \n",
    "    # chunk the data according to eye-RDM duration\n",
    "    chunk_func = func[:, :, :, chunk_num + hd_delay:chunk_num + hd_delay + 1]\n",
    "    \n",
    "    return whole_brain_mask, func, chunk_func, affine_mat"
   ]
  },
  {
   "cell_type": "code",
   "execution_count": 16,
   "id": "postal-geology",
   "metadata": {},
   "outputs": [
    {
     "name": "stderr",
     "output_type": "stream",
     "text": [
      "<ipython-input-13-354971fc00ce>:12: DeprecationWarning: get_data() is deprecated in favor of get_fdata(), which has a more predictable return type. To obtain get_data() behavior going forward, use numpy.asanyarray(img.dataobj).\n",
      "\n",
      "* deprecated from version: 3.0\n",
      "* Will raise <class 'nibabel.deprecator.ExpiredDeprecationError'> as of version: 5.0\n",
      "  whole_brain_mask = whole_brain_mask.get_data()\n"
     ]
    },
    {
     "name": "stdout",
     "output_type": "stream",
     "text": [
      "mask shape: (97, 115, 97)\n",
      "functional shape: (97, 115, 97, 451)\n",
      "chunked data shape: (97, 115, 97, 1)\n"
     ]
    }
   ],
   "source": [
    "mask, func_data, chunked_data, affine_mat = load_fmri(sub_num='01', run_num='1', fmri_dir=fmri_dir, chunk_num=1, hd_delay=2)\n",
    "print('mask shape:', mask.shape)\n",
    "print('functional shape:', func_data.shape)\n",
    "print('chunked data shape:', chunked_data.shape)"
   ]
  },
  {
   "cell_type": "code",
   "execution_count": 17,
   "id": "acting-ontario",
   "metadata": {},
   "outputs": [
    {
     "data": {
      "text/plain": [
       "array([[   2. ,    0. ,    0. ,  -96.5],\n",
       "       [   0. ,    2. ,    0. , -132.5],\n",
       "       [   0. ,    0. ,    2. ,  -78.5],\n",
       "       [   0. ,    0. ,    0. ,    1. ]])"
      ]
     },
     "execution_count": 17,
     "metadata": {},
     "output_type": "execute_result"
    }
   ],
   "source": [
    "affine_mat"
   ]
  },
  {
   "cell_type": "code",
   "execution_count": null,
   "id": "stunning-switch",
   "metadata": {},
   "outputs": [],
   "source": []
  }
 ],
 "metadata": {
  "kernelspec": {
   "display_name": "Python 3",
   "language": "python",
   "name": "python3"
  },
  "language_info": {
   "codemirror_mode": {
    "name": "ipython",
    "version": 3
   },
   "file_extension": ".py",
   "mimetype": "text/x-python",
   "name": "python",
   "nbconvert_exporter": "python",
   "pygments_lexer": "ipython3",
   "version": "3.8.5"
  }
 },
 "nbformat": 4,
 "nbformat_minor": 5
}
