{
 "cells": [
  {
   "cell_type": "code",
   "execution_count": 30,
   "metadata": {},
   "outputs": [
    {
     "name": "stdout",
     "output_type": "stream",
     "text": [
      "\u001b[0m\u001b[0m"
     ]
    }
   ],
   "source": [
    "!datalad get ~/Desktop/studyforrest-data-eyemovementlabels\n",
    "!datalad install ~/Desktop/studyforrest-data-eyemovementlabels"
   ]
  },
  {
   "cell_type": "code",
   "execution_count": 2,
   "metadata": {},
   "outputs": [],
   "source": [
    "import os\n",
    "import pandas as pd\n",
    "import numpy as np\n",
    "import matplotlib.pyplot as plt\n",
    "import seaborn as sns\n",
    "\n",
    "%matplotlib inline\n",
    "plt.style.use('seaborn-whitegrid')"
   ]
  },
  {
   "cell_type": "code",
   "execution_count": 3,
   "metadata": {},
   "outputs": [],
   "source": [
    "'''Housekeeping happens here.'''\n",
    "sub_test_list = ['%.2d' % i for i in range(1, 20)]\n",
    "sub_train_list= ['%.2d' % i for i in range(21, 37)]\n",
    "run_list = ['%.1d' % j for j in range(1, 9)]"
   ]
  },
  {
   "cell_type": "code",
   "execution_count": 4,
   "metadata": {},
   "outputs": [
    {
     "name": "stdout",
     "output_type": "stream",
     "text": [
      "fMRI-Subjects:  ['01', '02', '03', '04', '05', '06', '07', '08', '09', '10', '11', '12', '13', '14', '15', '16', '17', '18', '19']\n",
      "in-lab-Subjects:  ['21', '22', '23', '24', '25', '26', '27', '28', '29', '30', '31', '32', '33', '34', '35', '36']\n"
     ]
    }
   ],
   "source": [
    "print('fMRI-Subjects: ', sub_test_list)\n",
    "print('in-lab-Subjects: ', sub_train_list)"
   ]
  },
  {
   "cell_type": "code",
   "execution_count": 5,
   "metadata": {},
   "outputs": [],
   "source": [
    "# delete missing subjects from combi dataset\n",
    "sub_test_list.remove('07')\n",
    "sub_test_list.remove('08')\n",
    "sub_test_list.remove('11')\n",
    "sub_test_list.remove('12')\n",
    "sub_test_list.remove('13')\n",
    "\n",
    "# delete missing subjects from in-lab dataset\n",
    "sub_train_list.remove('21')\n",
    "\n",
    "data_dir = os.path.expanduser('~') + '/Desktop/studyforrest-data-eyemovementlabels'\n",
    "out_dir = data_dir + '/code/output'\n",
    "\n",
    "if not os.path.exists(out_dir):\n",
    "    os.makedirs(out_dir)"
   ]
  },
  {
   "cell_type": "markdown",
   "metadata": {},
   "source": [
    "**Possible types and measures of similarity (or: wtf is the same)?**\n",
    "- What types of eye-movement (e. g. fixation, saccades, ...) did they use?\n",
    "- Where did subjects look (start_x, start_y & end_x, end_y)?\n",
    "- How long were they looking (duration)?"
   ]
  },
  {
   "cell_type": "code",
   "execution_count": 6,
   "metadata": {},
   "outputs": [],
   "source": [
    "def load_eye_data(data_dir, sub, run):\n",
    "    '''\n",
    "    Load individual eye-gaze paths for each subject.\n",
    "    '''\n",
    "    sub_data = data_dir + f'/sub-{sub}/sub-{sub}_task-movie_run-{run}_events.tsv' \n",
    "    eye_data = pd.read_csv(sub_data, sep='\\t')\n",
    "    eye_data.insert(loc=0, column='subject', value=int(sub))\n",
    "    eye_data.insert(loc=1, column='run', value=int(run))\n",
    "    \n",
    "    return eye_data"
   ]
  },
  {
   "cell_type": "code",
   "execution_count": 7,
   "metadata": {},
   "outputs": [],
   "source": [
    "def split_data(in_data, start_onset, stop_onset, time_step):\n",
    "    '''\n",
    "    Take input data, divide data into unequal chunks based on start and stop onsets, \n",
    "    return array of chunks.\n",
    "    '''\n",
    "    chunk_list = []\n",
    "    for chunk in range(1, len(in_data['onset'])):\n",
    "        \n",
    "        if not in_data[(in_data['onset'] < stop_onset) & (in_data['onset'] > start_onset)].empty:\n",
    "            chunk_tmp = in_data[(in_data['onset'] < stop_onset) & (in_data['onset'] > start_onset)]\n",
    "            chunk_tmp.insert(loc=2, column='chunk', value=int(chunk))\n",
    "            chunk_list.append(chunk_tmp)\n",
    "            start_onset += time_step\n",
    "            stop_onset += time_step\n",
    "        \n",
    "        else:\n",
    "            break\n",
    "            \n",
    "    return chunk_list"
   ]
  },
  {
   "cell_type": "code",
   "execution_count": null,
   "metadata": {},
   "outputs": [],
   "source": [
    "start_onset = 0\n",
    "stop_onset = 12\n",
    "time_step = 12\n",
    "\n",
    "labeled_train_data_out = []"
   ]
  },
  {
   "cell_type": "code",
   "execution_count": 8,
   "metadata": {},
   "outputs": [],
   "source": [
    "for sub in sub_train_list:\n",
    "    for run in run_list: \n",
    "        '''\n",
    "        Loop through all subjects and runs, combine the specified columns.\n",
    "        '''\n",
    "        tmp_data = load_eye_data(data_dir, sub, run)[['subject', 'run',  'onset', 'duration', \n",
    "                                                      'label', 'start_x', 'start_y', 'end_x', 'end_y']]\n",
    "        labeled_train_data_out.append(tmp_data)\n",
    "\n",
    "# combine the data\n",
    "labeled_train_data = pd.concat(labeled_train_data_out, ignore_index=True)\n",
    "\n",
    "# chunk the data \n",
    "chunk_train_data = pd.concat(split_data(in_data=labeled_train_data, start_onset=start_onset, \n",
    "                                        stop_onset=stop_onset, time_step=time_step), ignore_index=True)"
   ]
  },
  {
   "cell_type": "markdown",
   "metadata": {},
   "source": [
    "**Get some descriptives for communication.**"
   ]
  },
  {
   "cell_type": "code",
   "execution_count": 9,
   "metadata": {},
   "outputs": [
    {
     "data": {
      "text/html": [
       "<div>\n",
       "<style scoped>\n",
       "    .dataframe tbody tr th:only-of-type {\n",
       "        vertical-align: middle;\n",
       "    }\n",
       "\n",
       "    .dataframe tbody tr th {\n",
       "        vertical-align: top;\n",
       "    }\n",
       "\n",
       "    .dataframe thead th {\n",
       "        text-align: right;\n",
       "    }\n",
       "</style>\n",
       "<table border=\"1\" class=\"dataframe\">\n",
       "  <thead>\n",
       "    <tr style=\"text-align: right;\">\n",
       "      <th></th>\n",
       "      <th>subject</th>\n",
       "      <th>run</th>\n",
       "      <th>chunk</th>\n",
       "      <th>onset</th>\n",
       "      <th>duration</th>\n",
       "      <th>label</th>\n",
       "      <th>start_x</th>\n",
       "      <th>start_y</th>\n",
       "      <th>end_x</th>\n",
       "      <th>end_y</th>\n",
       "    </tr>\n",
       "  </thead>\n",
       "  <tbody>\n",
       "    <tr>\n",
       "      <th>0</th>\n",
       "      <td>22</td>\n",
       "      <td>1</td>\n",
       "      <td>1</td>\n",
       "      <td>0.024</td>\n",
       "      <td>0.033</td>\n",
       "      <td>SACC</td>\n",
       "      <td>675.3</td>\n",
       "      <td>261.4</td>\n",
       "      <td>595.8</td>\n",
       "      <td>265.1</td>\n",
       "    </tr>\n",
       "    <tr>\n",
       "      <th>1</th>\n",
       "      <td>22</td>\n",
       "      <td>1</td>\n",
       "      <td>1</td>\n",
       "      <td>0.057</td>\n",
       "      <td>0.088</td>\n",
       "      <td>FIXA</td>\n",
       "      <td>596.2</td>\n",
       "      <td>265.2</td>\n",
       "      <td>593.5</td>\n",
       "      <td>264.8</td>\n",
       "    </tr>\n",
       "    <tr>\n",
       "      <th>2</th>\n",
       "      <td>22</td>\n",
       "      <td>1</td>\n",
       "      <td>1</td>\n",
       "      <td>0.145</td>\n",
       "      <td>0.114</td>\n",
       "      <td>PURS</td>\n",
       "      <td>593.3</td>\n",
       "      <td>264.9</td>\n",
       "      <td>590.1</td>\n",
       "      <td>265.6</td>\n",
       "    </tr>\n",
       "    <tr>\n",
       "      <th>3</th>\n",
       "      <td>22</td>\n",
       "      <td>1</td>\n",
       "      <td>1</td>\n",
       "      <td>0.259</td>\n",
       "      <td>0.191</td>\n",
       "      <td>FIXA</td>\n",
       "      <td>590.2</td>\n",
       "      <td>265.5</td>\n",
       "      <td>591.1</td>\n",
       "      <td>264.8</td>\n",
       "    </tr>\n",
       "    <tr>\n",
       "      <th>4</th>\n",
       "      <td>22</td>\n",
       "      <td>1</td>\n",
       "      <td>1</td>\n",
       "      <td>0.450</td>\n",
       "      <td>0.031</td>\n",
       "      <td>SACC</td>\n",
       "      <td>591.5</td>\n",
       "      <td>264.2</td>\n",
       "      <td>652.6</td>\n",
       "      <td>212.5</td>\n",
       "    </tr>\n",
       "    <tr>\n",
       "      <th>...</th>\n",
       "      <td>...</td>\n",
       "      <td>...</td>\n",
       "      <td>...</td>\n",
       "      <td>...</td>\n",
       "      <td>...</td>\n",
       "      <td>...</td>\n",
       "      <td>...</td>\n",
       "      <td>...</td>\n",
       "      <td>...</td>\n",
       "      <td>...</td>\n",
       "    </tr>\n",
       "    <tr>\n",
       "      <th>820573</th>\n",
       "      <td>22</td>\n",
       "      <td>7</td>\n",
       "      <td>91</td>\n",
       "      <td>1083.769</td>\n",
       "      <td>0.206</td>\n",
       "      <td>FIXA</td>\n",
       "      <td>804.1</td>\n",
       "      <td>165.2</td>\n",
       "      <td>828.6</td>\n",
       "      <td>154.1</td>\n",
       "    </tr>\n",
       "    <tr>\n",
       "      <th>820574</th>\n",
       "      <td>22</td>\n",
       "      <td>7</td>\n",
       "      <td>91</td>\n",
       "      <td>1083.975</td>\n",
       "      <td>0.036</td>\n",
       "      <td>SACC</td>\n",
       "      <td>829.0</td>\n",
       "      <td>153.6</td>\n",
       "      <td>1023.0</td>\n",
       "      <td>137.0</td>\n",
       "    </tr>\n",
       "    <tr>\n",
       "      <th>820575</th>\n",
       "      <td>22</td>\n",
       "      <td>7</td>\n",
       "      <td>91</td>\n",
       "      <td>1084.011</td>\n",
       "      <td>0.014</td>\n",
       "      <td>LPSO</td>\n",
       "      <td>1023.3</td>\n",
       "      <td>137.6</td>\n",
       "      <td>1012.1</td>\n",
       "      <td>132.2</td>\n",
       "    </tr>\n",
       "    <tr>\n",
       "      <th>820576</th>\n",
       "      <td>22</td>\n",
       "      <td>7</td>\n",
       "      <td>91</td>\n",
       "      <td>1084.025</td>\n",
       "      <td>0.045</td>\n",
       "      <td>PURS</td>\n",
       "      <td>1012.5</td>\n",
       "      <td>131.7</td>\n",
       "      <td>1021.1</td>\n",
       "      <td>133.5</td>\n",
       "    </tr>\n",
       "    <tr>\n",
       "      <th>820577</th>\n",
       "      <td>22</td>\n",
       "      <td>7</td>\n",
       "      <td>91</td>\n",
       "      <td>1084.070</td>\n",
       "      <td>0.046</td>\n",
       "      <td>FIXA</td>\n",
       "      <td>1021.2</td>\n",
       "      <td>133.4</td>\n",
       "      <td>1022.3</td>\n",
       "      <td>134.1</td>\n",
       "    </tr>\n",
       "  </tbody>\n",
       "</table>\n",
       "<p>58156 rows × 10 columns</p>\n",
       "</div>"
      ],
      "text/plain": [
       "        subject  run  chunk     onset  duration label  start_x  start_y  \\\n",
       "0            22    1      1     0.024     0.033  SACC    675.3    261.4   \n",
       "1            22    1      1     0.057     0.088  FIXA    596.2    265.2   \n",
       "2            22    1      1     0.145     0.114  PURS    593.3    264.9   \n",
       "3            22    1      1     0.259     0.191  FIXA    590.2    265.5   \n",
       "4            22    1      1     0.450     0.031  SACC    591.5    264.2   \n",
       "...         ...  ...    ...       ...       ...   ...      ...      ...   \n",
       "820573       22    7     91  1083.769     0.206  FIXA    804.1    165.2   \n",
       "820574       22    7     91  1083.975     0.036  SACC    829.0    153.6   \n",
       "820575       22    7     91  1084.011     0.014  LPSO   1023.3    137.6   \n",
       "820576       22    7     91  1084.025     0.045  PURS   1012.5    131.7   \n",
       "820577       22    7     91  1084.070     0.046  FIXA   1021.2    133.4   \n",
       "\n",
       "         end_x  end_y  \n",
       "0        595.8  265.1  \n",
       "1        593.5  264.8  \n",
       "2        590.1  265.6  \n",
       "3        591.1  264.8  \n",
       "4        652.6  212.5  \n",
       "...        ...    ...  \n",
       "820573   828.6  154.1  \n",
       "820574  1023.0  137.0  \n",
       "820575  1012.1  132.2  \n",
       "820576  1021.1  133.5  \n",
       "820577  1022.3  134.1  \n",
       "\n",
       "[58156 rows x 10 columns]"
      ]
     },
     "execution_count": 9,
     "metadata": {},
     "output_type": "execute_result"
    }
   ],
   "source": [
    "chunk_train_data[(chunk_train_data['subject'] == 22)]"
   ]
  },
  {
   "cell_type": "code",
   "execution_count": 10,
   "metadata": {},
   "outputs": [
    {
     "data": {
      "text/plain": [
       "array(['SACC', 'FIXA', 'PURS', 'LPSO', 'HPSO', 'ISAC', 'ILPS', 'IHPS'],\n",
       "      dtype=object)"
      ]
     },
     "execution_count": 10,
     "metadata": {},
     "output_type": "execute_result"
    }
   ],
   "source": [
    "eyegaze_features = pd.unique(chunk_train_data['label']) # categorical data: get different labels types\n",
    "eyegaze_features"
   ]
  },
  {
   "cell_type": "code",
   "execution_count": 11,
   "metadata": {},
   "outputs": [
    {
     "name": "stdout",
     "output_type": "stream",
     "text": [
      "Number of chunks in run-1:  76\n",
      "Number of chunks in run-2:  74\n",
      "Number of chunks in run-3:  74\n",
      "Number of chunks in run-4:  82\n",
      "Number of chunks in run-5:  78\n",
      "Number of chunks in run-6:  74\n",
      "Number of chunks in run-7:  91\n",
      "Number of chunks in run-8:  57\n"
     ]
    }
   ],
   "source": [
    "for run in run_list:\n",
    "    print(f'Number of chunks in run-{run}: ', \n",
    "          np.max(chunk_train_data[(chunk_train_data['run'] == int(run))]['chunk']))"
   ]
  },
  {
   "cell_type": "code",
   "execution_count": 15,
   "metadata": {},
   "outputs": [],
   "source": [
    "from scipy.sparse import issparse\n",
    "\n",
    "def gower_eye_matrix(data_x, data_y=None, weight=None, cat_features=None):\n",
    "    '''\n",
    "    Original implementation @ https://github.com/wwwjk366/gower/\n",
    "    Custom adaptation of the 'Gower-Distance' adapted for eye movement patterns. Check \n",
    "    statistical data types and use the appropriate distance measure (numerical=Manhattan \n",
    "    Distance; categorical=Dice Distsance). Account for label order within each chunk. Calculate \n",
    "    a weighted sum of the outcome.\n",
    "    '''\n",
    "   # function checks\n",
    "    X = data_x\n",
    "    if data_y is None: Y = data_x \n",
    "    else: Y = data_y \n",
    "    if not isinstance(X, np.ndarray): \n",
    "        if not np.array_equal(X.columns, Y.columns): raise TypeError(\"X and Y must have same columns!\")   \n",
    "    else: \n",
    "         if not X.shape[1] == Y.shape[1]: raise TypeError(\"X and Y must have same y-dim!\")  \n",
    "                \n",
    "    if issparse(X) or issparse(Y): raise TypeError(\"Sparse matrices are not supported!\")        \n",
    "            \n",
    "    x_n_rows, x_n_cols = X.shape\n",
    "    y_n_rows, y_n_cols = Y.shape \n",
    "    \n",
    "    if cat_features is None:\n",
    "        if not isinstance(X, np.ndarray): \n",
    "            is_number = np.vectorize(lambda x: not np.issubdtype(x, np.number))\n",
    "            cat_features = is_number(X.dtypes)    \n",
    "        else:\n",
    "            cat_features = np.zeros(x_n_cols, dtype=bool)\n",
    "            for col in range(x_n_cols):\n",
    "                if not np.issubdtype(type(X[0, col]), np.number):\n",
    "                    cat_features[col]=True\n",
    "    else:          \n",
    "        cat_features = np.array(cat_features)\n",
    "    \n",
    "    # print(cat_features)\n",
    "    \n",
    "    if not isinstance(X, np.ndarray): X = np.asarray(X)\n",
    "    if not isinstance(Y, np.ndarray): Y = np.asarray(Y)\n",
    "    \n",
    "    Z = np.concatenate((X,Y))\n",
    "    \n",
    "    x_index = range(0,x_n_rows)\n",
    "    y_index = range(x_n_rows,x_n_rows+y_n_rows)\n",
    "    \n",
    "    Z_num = Z[:,np.logical_not(cat_features)]\n",
    "    \n",
    "    num_cols = Z_num.shape[1]\n",
    "    num_ranges = np.zeros(num_cols)\n",
    "    num_max = np.zeros(num_cols)\n",
    "    \n",
    "    for col in range(num_cols):\n",
    "        col_array = Z_num[:, col].astype(np.float32) \n",
    "        max = np.nanmax(col_array)\n",
    "        min = np.nanmin(col_array)\n",
    "     \n",
    "        if np.isnan(max):\n",
    "            max = 0.0\n",
    "        if np.isnan(min):\n",
    "            min = 0.0\n",
    "        num_max[col] = max\n",
    "        num_ranges[col] = (1 - min / max) if (max != 0) else 0.0\n",
    "\n",
    "    # This is to normalize the numeric values between 0 and 1.\n",
    "    Z_num = np.divide(Z_num ,num_max,out=np.zeros_like(Z_num), where=num_max!=0)\n",
    "    Z_cat = Z[:,cat_features]\n",
    "    \n",
    "    if weight is None:\n",
    "        weight = np.ones(Z.shape[1])\n",
    "        \n",
    "    #print(weight)    \n",
    "    \n",
    "    weight_cat=weight[cat_features]\n",
    "    weight_num=weight[np.logical_not(cat_features)]   \n",
    "        \n",
    "    out = np.zeros((x_n_rows, y_n_rows), dtype=np.float32)\n",
    "        \n",
    "    weight_sum = weight.sum()\n",
    "    \n",
    "    X_cat = Z_cat[x_index,]\n",
    "    X_num = Z_num[x_index,]\n",
    "    Y_cat = Z_cat[y_index,]\n",
    "    Y_num = Z_num[y_index,]\n",
    "    \n",
    "   # print(X_cat,X_num,Y_cat,Y_num)\n",
    "    \n",
    "    for i in range(x_n_rows):          \n",
    "        j_start= i        \n",
    "        if x_n_rows != y_n_rows:\n",
    "            j_start = 0\n",
    "        # call the main function\n",
    "        res = gower_get(X_cat[i,:], \n",
    "                          X_num[i,:],\n",
    "                          Y_cat[j_start:y_n_rows,:],\n",
    "                          Y_num[j_start:y_n_rows,:],\n",
    "                          weight_cat,\n",
    "                          weight_num,\n",
    "                          weight_sum,\n",
    "                          cat_features,\n",
    "                          num_ranges,\n",
    "                          num_max) \n",
    "        #print(res)\n",
    "        out[i,j_start:]=res\n",
    "        if x_n_rows == y_n_rows: out[i:,j_start]=res\n",
    "        \n",
    "    return out"
   ]
  },
  {
   "cell_type": "code",
   "execution_count": 16,
   "metadata": {},
   "outputs": [],
   "source": [
    "def gower_get(xi_cat,xi_num,xj_cat,xj_num,feature_weight_cat,\n",
    "              feature_weight_num,feature_weight_sum,categorical_features,\n",
    "              ranges_of_numeric,max_of_numeric ):\n",
    "    \n",
    "    # categorical columns\n",
    "    sij_cat = np.where(xi_cat == xj_cat,np.zeros_like(xi_cat),np.ones_like(xi_cat))\n",
    "    sum_cat = np.multiply(feature_weight_cat,sij_cat).sum(axis=1) \n",
    "\n",
    "    # numerical columns\n",
    "    abs_delta=np.absolute(xi_num-xj_num)\n",
    "    sij_num=np.divide(abs_delta, ranges_of_numeric, out=np.zeros_like(abs_delta), where=ranges_of_numeric!=0)\n",
    "\n",
    "    sum_num = np.multiply(feature_weight_num,sij_num).sum(axis=1)\n",
    "    sums= np.add(sum_cat,sum_num)\n",
    "    sum_sij = np.divide(sums,feature_weight_sum)\n",
    "    \n",
    "    return sum_sij"
   ]
  },
  {
   "cell_type": "code",
   "execution_count": 41,
   "metadata": {},
   "outputs": [
    {
     "data": {
      "text/plain": [
       "array([[0.        , 0.1148558 , 0.11992764, ..., 0.13130492, 0.3178934 ,\n",
       "        0.14176399],\n",
       "       [0.1148558 , 0.        , 0.10533369, ..., 0.24374165, 0.21238089,\n",
       "        0.25368506],\n",
       "       [0.11992764, 0.10533369, 0.        , ..., 0.24747956, 0.30824003,\n",
       "        0.25742295],\n",
       "       ...,\n",
       "       [0.13130492, 0.24374165, 0.24747956, ..., 0.        , 0.19701374,\n",
       "        0.01592126],\n",
       "       [0.3178934 , 0.21238089, 0.30824003, ..., 0.19701374, 0.        ,\n",
       "        0.20403144],\n",
       "       [0.14176399, 0.25368506, 0.25742295, ..., 0.01592126, 0.20403144,\n",
       "        0.        ]], dtype=float32)"
      ]
     },
     "execution_count": 41,
     "metadata": {},
     "output_type": "execute_result"
    }
   ],
   "source": [
    "gower_eye_matrix(chunk_train_data[(chunk_train_data['subject'] == int(22)) &\n",
    "                                              (chunk_train_data['run'] == 1) & \n",
    "                                              (chunk_train_data['chunk'] == 1)])"
   ]
  },
  {
   "cell_type": "code",
   "execution_count": 46,
   "metadata": {},
   "outputs": [
    {
     "data": {
      "text/plain": [
       "(103, 103)"
      ]
     },
     "execution_count": 46,
     "metadata": {},
     "output_type": "execute_result"
    }
   ],
   "source": [
    "gower_eye_matrix(chunk_train_data[(chunk_train_data['subject'] == int(22)) &\n",
    "                                              (chunk_train_data['run'] == 1) & \n",
    "                                              (chunk_train_data['chunk'] == 1)]).shape"
   ]
  },
  {
   "cell_type": "code",
   "execution_count": 39,
   "metadata": {},
   "outputs": [
    {
     "data": {
      "text/plain": [
       "<seaborn.matrix.ClusterGrid at 0x7fd6885d8880>"
      ]
     },
     "execution_count": 39,
     "metadata": {},
     "output_type": "execute_result"
    },
    {
     "data": {
      "image/png": "[encoded data removed]",
      "text/plain": [
       "<Figure size 720x720 with 4 Axes>"
      ]
     },
     "metadata": {},
     "output_type": "display_data"
    }
   ],
   "source": [
    "sns.clustermap(gower_eye_matrix(chunk_train_data[(chunk_train_data['subject'] == int(22)) &\n",
    "                                  (chunk_train_data['run'] == 1) & \n",
    "                                 (chunk_train_data['chunk'] == 20)]))"
   ]
  },
  {
   "cell_type": "code",
   "execution_count": null,
   "metadata": {},
   "outputs": [],
   "source": []
  }
 ],
 "metadata": {
  "kernelspec": {
   "display_name": "Python 3",
   "language": "python",
   "name": "python3"
  },
  "language_info": {
   "codemirror_mode": {
    "name": "ipython",
    "version": 3
   },
   "file_extension": ".py",
   "mimetype": "text/x-python",
   "name": "python",
   "nbconvert_exporter": "python",
   "pygments_lexer": "ipython3",
   "version": "3.8.2"
  }
 },
 "nbformat": 4,
 "nbformat_minor": 4
}
