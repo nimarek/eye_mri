{
 "cells": [
  {
   "cell_type": "code",
   "execution_count": 1,
   "id": "divided-living",
   "metadata": {},
   "outputs": [
    {
     "name": "stderr",
     "output_type": "stream",
     "text": [
      "/home/nima/.local/lib/python3.8/site-packages/nilearn/datasets/__init__.py:87: FutureWarning: Fetchers from the nilearn.datasets module will be updated in version 0.9 to return python strings instead of bytes and Pandas dataframes instead of Numpy arrays.\n",
      "  warn(\"Fetchers from the nilearn.datasets module will be \"\n"
     ]
    }
   ],
   "source": [
    "import os\n",
    "import glob\n",
    "\n",
    "import numpy as np\n",
    "import nibabel as nib\n",
    "from nilearn import plotting, image\n",
    "from pyrsa.inference import eval_fixed\n",
    "from pyrsa.model import ModelFixed\n",
    "from pyrsa.rdm import RDMs\n",
    "from glob import glob\n",
    "from pyrsa.util.searchlight import get_volume_searchlight, get_searchlight_RDMs, evaluate_models_searchlight\n",
    "import matplotlib.pyplot as plt\n",
    "import seaborn as sns\n",
    "\n",
    "%matplotlib inline\n",
    "#plt.style.use('seaborn-whitegrid')"
   ]
  },
  {
   "cell_type": "code",
   "execution_count": 2,
   "id": "vulnerable-supplement",
   "metadata": {},
   "outputs": [],
   "source": [
    "base_dir = os.path.expanduser('~') + '/Desktop/study_forrest_rsa'\n",
    "fmri_dir = base_dir + '/derivatives/fmriprep'\n",
    "out_dir = base_dir + '/code/output'\n",
    "\n",
    "if not os.path.exists(out_dir):\n",
    "    os.makedirs(out_dir)"
   ]
  },
  {
   "cell_type": "code",
   "execution_count": 3,
   "id": "changing-sacramento",
   "metadata": {},
   "outputs": [],
   "source": [
    "sub_test_list = ['%.2d' % i for i in range(1, 20)]\n",
    "sub_train_list= ['%.2d' % i for i in range(21, 37)]\n",
    "run_list = ['%.1d' % j for j in range(1, 9)]"
   ]
  },
  {
   "cell_type": "code",
   "execution_count": 37,
   "id": "breeding-happiness",
   "metadata": {},
   "outputs": [],
   "source": [
    "def load_fmri(sub_num, run_num, fmri_dir, chunk_num, hd_delay):\n",
    "    '''\n",
    "    Load subject and run specific fmriprep preprocessed BOLD and mask files. Combine both, return masked\n",
    "    image. Slice 4th dimension of an image according to timepoint of the movie segment, incorporate 2 sec \n",
    "    hemo-dynamic delay.\n",
    "    '''\n",
    "    func_file = fmri_dir + f'/sub-{sub_num}/ses-movie/func/sub-{sub_num}_ses-movie_task-movie_run-{run_num}_space-MNI152NLin2009cAsym_res-2_desc-preproc_bold.nii.gz'\n",
    "    mask_file = fmri_dir + f'/sub-{sub_num}/ses-movie/func/sub-{sub_num}_ses-movie_task-movie_run-{run_num}_space-MNI152NLin2009cAsym_res-2_desc-brain_mask.nii.gz'\n",
    "    \n",
    "    mask_data = nib.load(mask_file).get_fdata()\n",
    "    func_data = nib.load(func_file).get_fdata()\n",
    "    chunk_func_data = func_data[:, :, :, chunk_num + hd_delay:chunk_num + hd_delay + 1]\n",
    "    \n",
    "    return mask_data, func_data, chunk_func_data"
   ]
  },
  {
   "cell_type": "code",
   "execution_count": 38,
   "id": "postal-geology",
   "metadata": {},
   "outputs": [
    {
     "name": "stdout",
     "output_type": "stream",
     "text": [
      "mask shape: (97, 115, 97)\n",
      "functional shape: (97, 115, 97, 451)\n",
      "chunked data shape: (97, 115, 97, 1)\n"
     ]
    }
   ],
   "source": [
    "mask, func_data, chunked_data = load_fmri(sub_num='01', run_num='1', fmri_dir=fmri_dir, chunk_num=1, hd_delay=2)\n",
    "print('mask shape:', mask.shape)\n",
    "print('functional shape:', func_data.shape)\n",
    "print('chunked data shape:', chunked_data.shape)"
   ]
  },
  {
   "cell_type": "code",
   "execution_count": 42,
   "id": "sporting-adoption",
   "metadata": {},
   "outputs": [
    {
     "data": {
      "text/plain": [
       "numpy.ndarray"
      ]
     },
     "execution_count": 42,
     "metadata": {},
     "output_type": "execute_result"
    }
   ],
   "source": [
    "type(func_data)"
   ]
  },
  {
   "cell_type": "code",
   "execution_count": null,
   "id": "contained-pickup",
   "metadata": {},
   "outputs": [],
   "source": [
    "def load_RDM(run_num, chunk_num, dimension, train=False):\n",
    "    '''\n",
    "    Load previously calculated RDMs. Return only the upper triangular index of an RMD. Delete the diagonal\n",
    "    as suggested by Ritchie, Bracci and Op de Beeck (2017).\n",
    "    '''\n",
    "    beh_train_dir = base_dir + '/simi_matrices_train'\n",
    "    beh_test_dir = base_dir + '/simi_matrices'\n",
    "    \n",
    "    # To-Do: include if statement to kick out chunks with > 50% NaN\n",
    "    if train == False:\n",
    "        data_dir = beh_test_dir\n",
    "    else:\n",
    "        data_dir = beh_train_dir\n",
    "        \n",
    "    rdm_file = data_dir + f'/run-{run_num}_dim-{dimension}_chunk-{chunk_num}.tsv'\n",
    "    RDM = np.loadtxt(rdm_file, delimiter='\\t')\n",
    "    \n",
    "    m = RDM.shape[0]\n",
    "    r, c = np.triu_indices(m, 1)\n",
    "    \n",
    "    return RDM[r, c]"
   ]
  },
  {
   "cell_type": "code",
   "execution_count": null,
   "id": "weekly-dryer",
   "metadata": {},
   "outputs": [],
   "source": [
    "plt.plot(load_RDM(run_num='1', chunk_num=123, dimension='duration', train=True))"
   ]
  },
  {
   "cell_type": "code",
   "execution_count": null,
   "id": "stunning-miller",
   "metadata": {},
   "outputs": [],
   "source": [
    "chunks_run_1 = len(glob.glob(base_dir + '/simi_matrices/run-1_dim-duration_chunk-*.tsv'))\n",
    "\n",
    "for i in range(1, chunks_run_1):\n",
    "    # load fMRI data, slice data according to chunk size\n",
    "    mask, func_data, chunked_data = load_fmri(sub_num='01', run_num='1', fmri_dir=fmri_dir, chunk_num=1, hd_delay=2)\n",
    "    \n",
    "    # load RDM for duration dimension\n",
    "    pos_sim = load_RDM(run_num='1', chunk_num=i, dimension='duration', train=False)\n",
    "\n",
    "    # calculate the RDM by searchlight"
   ]
  },
  {
   "cell_type": "code",
   "execution_count": null,
   "id": "common-dietary",
   "metadata": {},
   "outputs": [],
   "source": [
    "centers, neighbors = get_volume_searchlight(mask, radius=5, threshold=0.25)"
   ]
  },
  {
   "cell_type": "code",
   "execution_count": null,
   "id": "homeless-charter",
   "metadata": {},
   "outputs": [],
   "source": [
    "chunked_data_reshaped = chunked_data.reshape([chunked_data.shape[0], -1])\n",
    "chunked_data_reshaped = np.nan_to_num(chunked_data_reshaped)"
   ]
  },
  {
   "cell_type": "code",
   "execution_count": null,
   "id": "convertible-denver",
   "metadata": {},
   "outputs": [],
   "source": [
    "searchlight_rdm = get_searchlight_RDMs(chunked_data_reshaped, centers, neighbors, \n",
    "                                       events=np.arange(func_data.shape[3]), method='correlation')"
   ]
  },
  {
   "cell_type": "code",
   "execution_count": null,
   "id": "circular-annotation",
   "metadata": {},
   "outputs": [],
   "source": [
    "help(get_searchlight_RDMs)"
   ]
  },
  {
   "cell_type": "code",
   "execution_count": null,
   "id": "determined-detection",
   "metadata": {},
   "outputs": [],
   "source": [
    "np.arange(func_data.shape[3])"
   ]
  },
  {
   "cell_type": "code",
   "execution_count": null,
   "id": "prostate-antarctica",
   "metadata": {},
   "outputs": [],
   "source": [
    "chunked_data_reshaped"
   ]
  },
  {
   "cell_type": "code",
   "execution_count": null,
   "id": "acting-ontario",
   "metadata": {},
   "outputs": [],
   "source": []
  }
 ],
 "metadata": {
  "kernelspec": {
   "display_name": "Python 3",
   "language": "python",
   "name": "python3"
  },
  "language_info": {
   "codemirror_mode": {
    "name": "ipython",
    "version": 3
   },
   "file_extension": ".py",
   "mimetype": "text/x-python",
   "name": "python",
   "nbconvert_exporter": "python",
   "pygments_lexer": "ipython3",
   "version": "3.8.5"
  }
 },
 "nbformat": 4,
 "nbformat_minor": 5
}
